{
 "cells": [
  {
   "cell_type": "code",
   "execution_count": 1,
   "metadata": {},
   "outputs": [],
   "source": [
    "from math import sqrt\n",
    "import cv2"
   ]
  },
  {
   "cell_type": "code",
   "execution_count": 2,
   "metadata": {},
   "outputs": [],
   "source": [
    "path = r'C:/Users/david/OneDrive/Escritorio/IAC/VA_Presentacion/parking_space_counter/Car_counting/input/carpark.jpg'\n",
    "image = cv2.imread(path)\n",
    "img_copy = image.copy()\n",
    "\n",
    "pt_x , pt_y = None, None\n",
    "\n",
    "full_count = 0\n",
    "empty_count = 0\n",
    "\n",
    "font = cv2.FONT_HERSHEY_SIMPLEX"
   ]
  },
  {
   "cell_type": "code",
   "execution_count": 3,
   "metadata": {},
   "outputs": [],
   "source": [
    "def full_counter():\n",
    "    global full_count\n",
    "    full_count += 1\n",
    "    return full_count"
   ]
  },
  {
   "cell_type": "code",
   "execution_count": 4,
   "metadata": {},
   "outputs": [],
   "source": [
    "def empty_counter():\n",
    "    global empty_count\n",
    "    empty_count += 1\n",
    "    return empty_count"
   ]
  },
  {
   "cell_type": "code",
   "execution_count": 5,
   "metadata": {},
   "outputs": [],
   "source": [
    "def search_window(event, x, y, flags, param):\n",
    "    pt_x, pt_y = x,y\n",
    "\n",
    "    if event == cv2.EVENT_LBUTTONDOWN:\n",
    "        pt_x, pt_y = x, y\n",
    "    elif event == cv2.EVENT_LBUTTONUP:\n",
    "        full_spaces = full_counter()\n",
    "        cv2.putText(image, f'{full_spaces}', (pt_x, pt_y), font, 1 , (0 , 0, 255), 2, cv2.LINE_AA)\n",
    "    if event == cv2.EVENT_RBUTTONDOWN:\n",
    "        pt_x, pt_y = x, y\n",
    "    elif event == cv2.EVENT_RBUTTONUP:\n",
    "        full_spaces = empty_counter()\n",
    "        cv2.putText(image, f'{full_spaces}', (pt_x, pt_y), font, 1 , (0 , 255, 0), 2, cv2.LINE_AA)"
   ]
  },
  {
   "cell_type": "code",
   "execution_count": 6,
   "metadata": {},
   "outputs": [
    {
     "ename": "",
     "evalue": "",
     "output_type": "error",
     "traceback": [
      "\u001b[1;31mCanceled future for execute_request message before replies were done"
     ]
    },
    {
     "ename": "",
     "evalue": "",
     "output_type": "error",
     "traceback": [
      "\u001b[1;31mEl Kernel se bloqueó al ejecutar código en la celda actual o en una celda anterior. Revise el código de las celdas para identificar una posible causa del error. Haga clic <a href='https://aka.ms/vscodeJupyterKernelCrash'>aquí</a> para obtener más información. Vea el [registro] de Jupyter (command:jupyter.viewOutput) para obtener más detalles."
     ]
    }
   ],
   "source": [
    "while True:\n",
    "\n",
    "    cv2.namedWindow('Image')\n",
    "\n",
    "    cv2.setMouseCallback('Image', search_window)\n",
    "\n",
    "    cv2.rectangle(image, (0, 0), (70, 40), (255, 255, 255), -1)\n",
    "\n",
    "    cv2.putText(image, f'{full_count}', (5, 30), font, 1, (0, 0, 255), 2, cv2.LINE_AA)\n",
    "    cv2.putText(image, f'{empty_count}', (5, 70), font, 1, (0, 255, 0), 2, cv2.LINE_AA)\n",
    "\n",
    "    cv2.imshow('Image',image)\n",
    "\n",
    "    if cv2.waitKey(1) & 0xFF == 27:\n",
    "        break\n",
    "\n",
    "cv2.destroyAllWindows()"
   ]
  }
 ],
 "metadata": {
  "kernelspec": {
   "display_name": "Python 3.10.6 64-bit",
   "language": "python",
   "name": "python3"
  },
  "language_info": {
   "codemirror_mode": {
    "name": "ipython",
    "version": 3
   },
   "file_extension": ".py",
   "mimetype": "text/x-python",
   "name": "python",
   "nbconvert_exporter": "python",
   "pygments_lexer": "ipython3",
   "version": "3.10.6"
  },
  "orig_nbformat": 4,
  "vscode": {
   "interpreter": {
    "hash": "b629c3126b5df0b3c19ac5f524890cb3a3a2e86c1a2f2c4b1c29287aa73e65d0"
   }
  }
 },
 "nbformat": 4,
 "nbformat_minor": 2
}
